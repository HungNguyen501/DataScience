{
 "cells": [
  {
   "cell_type": "code",
   "execution_count": 64,
   "id": "525ccdeb",
   "metadata": {},
   "outputs": [],
   "source": [
    "import pandas as pd\n",
    "import re\n",
    "import json"
   ]
  },
  {
   "cell_type": "code",
   "execution_count": 65,
   "id": "3041232c",
   "metadata": {},
   "outputs": [
    {
     "data": {
      "text/html": [
       "<div>\n",
       "<style scoped>\n",
       "    .dataframe tbody tr th:only-of-type {\n",
       "        vertical-align: middle;\n",
       "    }\n",
       "\n",
       "    .dataframe tbody tr th {\n",
       "        vertical-align: top;\n",
       "    }\n",
       "\n",
       "    .dataframe thead th {\n",
       "        text-align: right;\n",
       "    }\n",
       "</style>\n",
       "<table border=\"1\" class=\"dataframe\">\n",
       "  <thead>\n",
       "    <tr style=\"text-align: right;\">\n",
       "      <th></th>\n",
       "      <th>id</th>\n",
       "      <th>master_id</th>\n",
       "      <th>sku</th>\n",
       "      <th>name</th>\n",
       "      <th>url_key</th>\n",
       "      <th>url_path</th>\n",
       "      <th>type</th>\n",
       "      <th>book_cover</th>\n",
       "      <th>short_description</th>\n",
       "      <th>price</th>\n",
       "      <th>...</th>\n",
       "      <th>stock_item</th>\n",
       "      <th>quantity_sold</th>\n",
       "      <th>all_time_quantity_sold</th>\n",
       "      <th>installment_info</th>\n",
       "      <th>video_url</th>\n",
       "      <th>youtube</th>\n",
       "      <th>is_seller_in_chat_whitelist</th>\n",
       "      <th>price_comparison</th>\n",
       "      <th>configurable_options</th>\n",
       "      <th>configurable_products</th>\n",
       "    </tr>\n",
       "  </thead>\n",
       "  <tbody>\n",
       "    <tr>\n",
       "      <th>0</th>\n",
       "      <td>76472917</td>\n",
       "      <td>76472917</td>\n",
       "      <td>7.84E+12</td>\n",
       "      <td>Microsoft Surface Pro 7 Model QWV-00007  I5/8G...</td>\n",
       "      <td>microsoft-surface-pro-7-model-qwv-00007-i5-8gb...</td>\n",
       "      <td>microsoft-surface-pro-7-model-qwv-00007-i5-8gb...</td>\n",
       "      <td>simple</td>\n",
       "      <td>NaN</td>\n",
       "      <td>Surface Pro 7 Core i5 RAM 8GB SSD 256GB - Sự L...</td>\n",
       "      <td>25799000</td>\n",
       "      <td>...</td>\n",
       "      <td>{'qty': 2, 'min_sale_qty': 1, 'max_sale_qty': ...</td>\n",
       "      <td>{'text': 'Đã bán 2', 'value': 2}</td>\n",
       "      <td>2.0</td>\n",
       "      <td>NaN</td>\n",
       "      <td>NaN</td>\n",
       "      <td>NaN</td>\n",
       "      <td>True</td>\n",
       "      <td>NaN</td>\n",
       "      <td>NaN</td>\n",
       "      <td>NaN</td>\n",
       "    </tr>\n",
       "    <tr>\n",
       "      <th>1</th>\n",
       "      <td>88231354</td>\n",
       "      <td>88231354</td>\n",
       "      <td>5.25E+12</td>\n",
       "      <td>Apple Macbook Air 2020 M1 - 13 Inchs (Apple M1...</td>\n",
       "      <td>apple-macbook-air-2020-m1-13-inchs-apple-m1-16...</td>\n",
       "      <td>apple-macbook-air-2020-m1-13-inchs-apple-m1-16...</td>\n",
       "      <td>configurable</td>\n",
       "      <td>NaN</td>\n",
       "      <td>Sang trọng, cơ động và đẳng cấp \\nĐược chế tác...</td>\n",
       "      <td>29999000</td>\n",
       "      <td>...</td>\n",
       "      <td>{'qty': 516159, 'min_sale_qty': 1, 'max_sale_q...</td>\n",
       "      <td>{'text': 'Đã bán 25', 'value': 25}</td>\n",
       "      <td>25.0</td>\n",
       "      <td>NaN</td>\n",
       "      <td>NaN</td>\n",
       "      <td>NaN</td>\n",
       "      <td>False</td>\n",
       "      <td>{'title': '1 Nhà Bán Khác', 'sub_title': 'Giá ...</td>\n",
       "      <td>[{'code': 'option1', 'name': 'Màu', 'show_prev...</td>\n",
       "      <td>[{'child_id': 88231355, 'sku': '6096232731489'...</td>\n",
       "    </tr>\n",
       "    <tr>\n",
       "      <th>2</th>\n",
       "      <td>72761522</td>\n",
       "      <td>72761522</td>\n",
       "      <td>9.55E+12</td>\n",
       "      <td>LapTop Lenovo ThinkBook 15 IIL 20SM00D9VN | Co...</td>\n",
       "      <td>laptop-lenovo-thinkbook-15-iil-20sm00d9vn-core...</td>\n",
       "      <td>laptop-lenovo-thinkbook-15-iil-20sm00d9vn-core...</td>\n",
       "      <td>simple</td>\n",
       "      <td>NaN</td>\n",
       "      <td>Thông Số Kỹ ThuậtCPU 10th Generation Intel Cor...</td>\n",
       "      <td>11439000</td>\n",
       "      <td>...</td>\n",
       "      <td>{'qty': 864688, 'min_sale_qty': 1, 'max_sale_q...</td>\n",
       "      <td>{'text': 'Đã bán 32', 'value': 32}</td>\n",
       "      <td>32.0</td>\n",
       "      <td>NaN</td>\n",
       "      <td>NaN</td>\n",
       "      <td>NaN</td>\n",
       "      <td>False</td>\n",
       "      <td>{'title': '1 Nhà Bán Khác', 'sub_title': 'Giá ...</td>\n",
       "      <td>NaN</td>\n",
       "      <td>NaN</td>\n",
       "    </tr>\n",
       "    <tr>\n",
       "      <th>3</th>\n",
       "      <td>73795660</td>\n",
       "      <td>73795660</td>\n",
       "      <td>7.30E+12</td>\n",
       "      <td>Apple Macbook Pro 2020 M1 - 13 Inchs (Apple M1...</td>\n",
       "      <td>apple-macbook-pro-2020-m1-13-inchs-apple-m1-8g...</td>\n",
       "      <td>apple-macbook-pro-2020-m1-13-inchs-apple-m1-8g...</td>\n",
       "      <td>configurable</td>\n",
       "      <td>NaN</td>\n",
       "      <td>Thiết kế trau chuốt từng đường nét, trải nghiệ...</td>\n",
       "      <td>35990000</td>\n",
       "      <td>...</td>\n",
       "      <td>{'qty': 2, 'min_sale_qty': 1, 'max_sale_qty': ...</td>\n",
       "      <td>NaN</td>\n",
       "      <td>NaN</td>\n",
       "      <td>NaN</td>\n",
       "      <td>NaN</td>\n",
       "      <td>NaN</td>\n",
       "      <td>True</td>\n",
       "      <td>NaN</td>\n",
       "      <td>[{'code': 'option1', 'name': 'Màu', 'show_prev...</td>\n",
       "      <td>[{'child_id': 73795663, 'sku': '7718801101019'...</td>\n",
       "    </tr>\n",
       "    <tr>\n",
       "      <th>4</th>\n",
       "      <td>86787852</td>\n",
       "      <td>86787852</td>\n",
       "      <td>1.92E+12</td>\n",
       "      <td>Laptop Asus ExpertBook P2451F (Chip Intel Core...</td>\n",
       "      <td>laptop-asus-expertbook-p2451f-chip-intel-core-...</td>\n",
       "      <td>laptop-asus-expertbook-p2451f-chip-intel-core-...</td>\n",
       "      <td>simple</td>\n",
       "      <td>NaN</td>\n",
       "      <td>CPU: Intel Core i5-10210U 1.6GHz up to 4.2GHz ...</td>\n",
       "      <td>14500000</td>\n",
       "      <td>...</td>\n",
       "      <td>{'qty': 2, 'min_sale_qty': 1, 'max_sale_qty': ...</td>\n",
       "      <td>NaN</td>\n",
       "      <td>NaN</td>\n",
       "      <td>NaN</td>\n",
       "      <td>NaN</td>\n",
       "      <td>NaN</td>\n",
       "      <td>True</td>\n",
       "      <td>NaN</td>\n",
       "      <td>NaN</td>\n",
       "      <td>NaN</td>\n",
       "    </tr>\n",
       "  </tbody>\n",
       "</table>\n",
       "<p>5 rows × 59 columns</p>\n",
       "</div>"
      ],
      "text/plain": [
       "         id master_id       sku  \\\n",
       "0  76472917  76472917  7.84E+12   \n",
       "1  88231354  88231354  5.25E+12   \n",
       "2  72761522  72761522  9.55E+12   \n",
       "3  73795660  73795660  7.30E+12   \n",
       "4  86787852  86787852  1.92E+12   \n",
       "\n",
       "                                                name  \\\n",
       "0  Microsoft Surface Pro 7 Model QWV-00007  I5/8G...   \n",
       "1  Apple Macbook Air 2020 M1 - 13 Inchs (Apple M1...   \n",
       "2  LapTop Lenovo ThinkBook 15 IIL 20SM00D9VN | Co...   \n",
       "3  Apple Macbook Pro 2020 M1 - 13 Inchs (Apple M1...   \n",
       "4  Laptop Asus ExpertBook P2451F (Chip Intel Core...   \n",
       "\n",
       "                                             url_key  \\\n",
       "0  microsoft-surface-pro-7-model-qwv-00007-i5-8gb...   \n",
       "1  apple-macbook-air-2020-m1-13-inchs-apple-m1-16...   \n",
       "2  laptop-lenovo-thinkbook-15-iil-20sm00d9vn-core...   \n",
       "3  apple-macbook-pro-2020-m1-13-inchs-apple-m1-8g...   \n",
       "4  laptop-asus-expertbook-p2451f-chip-intel-core-...   \n",
       "\n",
       "                                            url_path          type book_cover  \\\n",
       "0  microsoft-surface-pro-7-model-qwv-00007-i5-8gb...        simple        NaN   \n",
       "1  apple-macbook-air-2020-m1-13-inchs-apple-m1-16...  configurable        NaN   \n",
       "2  laptop-lenovo-thinkbook-15-iil-20sm00d9vn-core...        simple        NaN   \n",
       "3  apple-macbook-pro-2020-m1-13-inchs-apple-m1-8g...  configurable        NaN   \n",
       "4  laptop-asus-expertbook-p2451f-chip-intel-core-...        simple        NaN   \n",
       "\n",
       "                                   short_description     price  ...  \\\n",
       "0  Surface Pro 7 Core i5 RAM 8GB SSD 256GB - Sự L...  25799000  ...   \n",
       "1  Sang trọng, cơ động và đẳng cấp \\nĐược chế tác...  29999000  ...   \n",
       "2  Thông Số Kỹ ThuậtCPU 10th Generation Intel Cor...  11439000  ...   \n",
       "3  Thiết kế trau chuốt từng đường nét, trải nghiệ...  35990000  ...   \n",
       "4  CPU: Intel Core i5-10210U 1.6GHz up to 4.2GHz ...  14500000  ...   \n",
       "\n",
       "                                          stock_item  \\\n",
       "0  {'qty': 2, 'min_sale_qty': 1, 'max_sale_qty': ...   \n",
       "1  {'qty': 516159, 'min_sale_qty': 1, 'max_sale_q...   \n",
       "2  {'qty': 864688, 'min_sale_qty': 1, 'max_sale_q...   \n",
       "3  {'qty': 2, 'min_sale_qty': 1, 'max_sale_qty': ...   \n",
       "4  {'qty': 2, 'min_sale_qty': 1, 'max_sale_qty': ...   \n",
       "\n",
       "                        quantity_sold all_time_quantity_sold installment_info  \\\n",
       "0    {'text': 'Đã bán 2', 'value': 2}                    2.0              NaN   \n",
       "1  {'text': 'Đã bán 25', 'value': 25}                   25.0              NaN   \n",
       "2  {'text': 'Đã bán 32', 'value': 32}                   32.0              NaN   \n",
       "3                                 NaN                    NaN              NaN   \n",
       "4                                 NaN                    NaN              NaN   \n",
       "\n",
       "  video_url  youtube  is_seller_in_chat_whitelist  \\\n",
       "0       NaN      NaN                         True   \n",
       "1       NaN      NaN                        False   \n",
       "2       NaN      NaN                        False   \n",
       "3       NaN      NaN                         True   \n",
       "4       NaN      NaN                         True   \n",
       "\n",
       "                                    price_comparison  \\\n",
       "0                                                NaN   \n",
       "1  {'title': '1 Nhà Bán Khác', 'sub_title': 'Giá ...   \n",
       "2  {'title': '1 Nhà Bán Khác', 'sub_title': 'Giá ...   \n",
       "3                                                NaN   \n",
       "4                                                NaN   \n",
       "\n",
       "                                configurable_options  \\\n",
       "0                                                NaN   \n",
       "1  [{'code': 'option1', 'name': 'Màu', 'show_prev...   \n",
       "2                                                NaN   \n",
       "3  [{'code': 'option1', 'name': 'Màu', 'show_prev...   \n",
       "4                                                NaN   \n",
       "\n",
       "                               configurable_products  \n",
       "0                                                NaN  \n",
       "1  [{'child_id': 88231355, 'sku': '6096232731489'...  \n",
       "2                                                NaN  \n",
       "3  [{'child_id': 73795663, 'sku': '7718801101019'...  \n",
       "4                                                NaN  \n",
       "\n",
       "[5 rows x 59 columns]"
      ]
     },
     "execution_count": 65,
     "metadata": {},
     "output_type": "execute_result"
    }
   ],
   "source": [
    "data = pd.read_csv(\"product_detail.csv\")\n",
    "data.head()"
   ]
  },
  {
   "cell_type": "code",
   "execution_count": 66,
   "id": "1887d5d4",
   "metadata": {},
   "outputs": [
    {
     "data": {
      "text/plain": [
       "(233, 59)"
      ]
     },
     "execution_count": 66,
     "metadata": {},
     "output_type": "execute_result"
    }
   ],
   "source": [
    "data.shape"
   ]
  },
  {
   "cell_type": "code",
   "execution_count": 67,
   "id": "96ae04d9",
   "metadata": {},
   "outputs": [
    {
     "name": "stdout",
     "output_type": "stream",
     "text": [
      "<class 'pandas.core.frame.DataFrame'>\n",
      "RangeIndex: 233 entries, 0 to 232\n",
      "Data columns (total 59 columns):\n",
      " #   Column                       Non-Null Count  Dtype  \n",
      "---  ------                       --------------  -----  \n",
      " 0   id                           232 non-null    object \n",
      " 1   master_id                    227 non-null    object \n",
      " 2   sku                          227 non-null    object \n",
      " 3   name                         226 non-null    object \n",
      " 4   url_key                      226 non-null    object \n",
      " 5   url_path                     225 non-null    object \n",
      " 6   type                         226 non-null    object \n",
      " 7   book_cover                   1 non-null      object \n",
      " 8   short_description            226 non-null    object \n",
      " 9   price                        226 non-null    object \n",
      " 10  list_price                   226 non-null    object \n",
      " 11  badges                       226 non-null    object \n",
      " 12  discount                     226 non-null    object \n",
      " 13  discount_rate                226 non-null    object \n",
      " 14  rating_average               226 non-null    object \n",
      " 15  review_count                 225 non-null    float64\n",
      " 16  order_count                  225 non-null    float64\n",
      " 17  favourite_count              225 non-null    float64\n",
      " 18  thumbnail_url                225 non-null    object \n",
      " 19  has_ebook                    225 non-null    object \n",
      " 20  inventory_status             226 non-null    object \n",
      " 21  inventory_type               225 non-null    object \n",
      " 22  productset_group_name        225 non-null    object \n",
      " 23  is_fresh                     225 non-null    object \n",
      " 24  seller                       0 non-null      float64\n",
      " 25  is_flower                    225 non-null    object \n",
      " 26  is_gift_card                 225 non-null    object \n",
      " 27  inventory                    225 non-null    object \n",
      " 28  url_attendant_input_form     0 non-null      float64\n",
      " 29  salable_type                 0 non-null      float64\n",
      " 30  data_version                 225 non-null    float64\n",
      " 31  day_ago_created              225 non-null    float64\n",
      " 32  categories                   225 non-null    object \n",
      " 33  meta_title                   2 non-null      object \n",
      " 34  meta_description             0 non-null      float64\n",
      " 35  meta_keywords                0 non-null      float64\n",
      " 36  liked                        225 non-null    object \n",
      " 37  rating_summary               225 non-null    object \n",
      " 38  description                  225 non-null    object \n",
      " 39  images                       224 non-null    object \n",
      " 40  warranty_policy              0 non-null      float64\n",
      " 41  brand                        224 non-null    object \n",
      " 42  seller_specifications        224 non-null    object \n",
      " 43  current_seller               219 non-null    object \n",
      " 44  other_sellers                224 non-null    object \n",
      " 45  specifications               224 non-null    object \n",
      " 46  product_links                219 non-null    object \n",
      " 47  services_and_promotions      219 non-null    object \n",
      " 48  promotions                   219 non-null    object \n",
      " 49  stock_item                   219 non-null    object \n",
      " 50  quantity_sold                98 non-null     object \n",
      " 51  all_time_quantity_sold       98 non-null     float64\n",
      " 52  installment_info             0 non-null      float64\n",
      " 53  video_url                    4 non-null      object \n",
      " 54  youtube                      0 non-null      float64\n",
      " 55  is_seller_in_chat_whitelist  224 non-null    object \n",
      " 56  price_comparison             31 non-null     object \n",
      " 57  configurable_options         10 non-null     object \n",
      " 58  configurable_products        10 non-null     object \n",
      "dtypes: float64(14), object(45)\n",
      "memory usage: 107.5+ KB\n"
     ]
    }
   ],
   "source": [
    "data.info()"
   ]
  },
  {
   "cell_type": "code",
   "execution_count": 95,
   "id": "96bfcebd",
   "metadata": {},
   "outputs": [],
   "source": [
    "df = data[\"quantity_sold\"]"
   ]
  },
  {
   "cell_type": "code",
   "execution_count": 96,
   "id": "3008ccfb",
   "metadata": {},
   "outputs": [
    {
     "data": {
      "text/plain": [
       "(98,)"
      ]
     },
     "execution_count": 96,
     "metadata": {},
     "output_type": "execute_result"
    }
   ],
   "source": [
    "df = df.dropna()\n",
    "df.shape"
   ]
  },
  {
   "cell_type": "code",
   "execution_count": 97,
   "id": "f237bf28",
   "metadata": {},
   "outputs": [
    {
     "data": {
      "text/plain": [
       "0        {'text': 'Đã bán 2', 'value': 2}\n",
       "1      {'text': 'Đã bán 25', 'value': 25}\n",
       "2      {'text': 'Đã bán 32', 'value': 32}\n",
       "5      {'text': 'Đã bán 38', 'value': 38}\n",
       "6      {'text': 'Đã bán 10', 'value': 10}\n",
       "                      ...                \n",
       "179      {'text': 'Đã bán 1', 'value': 1}\n",
       "182      {'text': 'Đã bán 2', 'value': 2}\n",
       "193      {'text': 'Đã bán 4', 'value': 4}\n",
       "212      {'text': 'Đã bán 2', 'value': 2}\n",
       "220      {'text': 'Đã bán 3', 'value': 3}\n",
       "Name: quantity_sold, Length: 98, dtype: object"
      ]
     },
     "execution_count": 97,
     "metadata": {},
     "output_type": "execute_result"
    }
   ],
   "source": [
    "df = df.astype(str)\n",
    "df"
   ]
  },
  {
   "cell_type": "code",
   "execution_count": 90,
   "id": "8438bc85",
   "metadata": {},
   "outputs": [
    {
     "data": {
      "text/plain": [
       "0        {\"text\": \"Đã bán 2\", \"value\": 2}\n",
       "1      {\"text\": \"Đã bán 25\", \"value\": 25}\n",
       "2      {\"text\": \"Đã bán 32\", \"value\": 32}\n",
       "5      {\"text\": \"Đã bán 38\", \"value\": 38}\n",
       "6      {\"text\": \"Đã bán 10\", \"value\": 10}\n",
       "                      ...                \n",
       "179      {\"text\": \"Đã bán 1\", \"value\": 1}\n",
       "182      {\"text\": \"Đã bán 2\", \"value\": 2}\n",
       "193      {\"text\": \"Đã bán 4\", \"value\": 4}\n",
       "212      {\"text\": \"Đã bán 2\", \"value\": 2}\n",
       "220      {\"text\": \"Đã bán 3\", \"value\": 3}\n",
       "Name: quantity_sold, Length: 98, dtype: object"
      ]
     },
     "execution_count": 90,
     "metadata": {},
     "output_type": "execute_result"
    }
   ],
   "source": [
    "df = df.apply(lambda s: re.sub(\"\\'\", \"\\\"\", s))\n",
    "df = df.apply(lambda s: re.sub(\"None\", \"\\\"None\\\"\", s))\n",
    "df"
   ]
  },
  {
   "cell_type": "code",
   "execution_count": 92,
   "id": "afbb386c",
   "metadata": {},
   "outputs": [
    {
     "data": {
      "text/plain": [
       "str"
      ]
     },
     "execution_count": 92,
     "metadata": {},
     "output_type": "execute_result"
    }
   ],
   "source": [
    "type(df.iloc[0])"
   ]
  },
  {
   "cell_type": "code",
   "execution_count": 93,
   "id": "61396920",
   "metadata": {},
   "outputs": [],
   "source": [
    "df = df.apply(json.loads)"
   ]
  },
  {
   "cell_type": "code",
   "execution_count": 94,
   "id": "9bcc45b4",
   "metadata": {},
   "outputs": [
    {
     "data": {
      "text/html": [
       "<div>\n",
       "<style scoped>\n",
       "    .dataframe tbody tr th:only-of-type {\n",
       "        vertical-align: middle;\n",
       "    }\n",
       "\n",
       "    .dataframe tbody tr th {\n",
       "        vertical-align: top;\n",
       "    }\n",
       "\n",
       "    .dataframe thead th {\n",
       "        text-align: right;\n",
       "    }\n",
       "</style>\n",
       "<table border=\"1\" class=\"dataframe\">\n",
       "  <thead>\n",
       "    <tr style=\"text-align: right;\">\n",
       "      <th></th>\n",
       "      <th>text</th>\n",
       "      <th>value</th>\n",
       "    </tr>\n",
       "  </thead>\n",
       "  <tbody>\n",
       "    <tr>\n",
       "      <th>0</th>\n",
       "      <td>Đã bán 2</td>\n",
       "      <td>2</td>\n",
       "    </tr>\n",
       "    <tr>\n",
       "      <th>1</th>\n",
       "      <td>Đã bán 25</td>\n",
       "      <td>25</td>\n",
       "    </tr>\n",
       "    <tr>\n",
       "      <th>2</th>\n",
       "      <td>Đã bán 32</td>\n",
       "      <td>32</td>\n",
       "    </tr>\n",
       "    <tr>\n",
       "      <th>3</th>\n",
       "      <td>Đã bán 38</td>\n",
       "      <td>38</td>\n",
       "    </tr>\n",
       "    <tr>\n",
       "      <th>4</th>\n",
       "      <td>Đã bán 10</td>\n",
       "      <td>10</td>\n",
       "    </tr>\n",
       "  </tbody>\n",
       "</table>\n",
       "</div>"
      ],
      "text/plain": [
       "        text  value\n",
       "0   Đã bán 2      2\n",
       "1  Đã bán 25     25\n",
       "2  Đã bán 32     32\n",
       "3  Đã bán 38     38\n",
       "4  Đã bán 10     10"
      ]
     },
     "execution_count": 94,
     "metadata": {},
     "output_type": "execute_result"
    }
   ],
   "source": [
    "df2 = pd.DataFrame(df.to_list())\n",
    "df2.head()"
   ]
  },
  {
   "cell_type": "code",
   "execution_count": null,
   "id": "b0e52d78",
   "metadata": {},
   "outputs": [],
   "source": []
  },
  {
   "cell_type": "code",
   "execution_count": null,
   "id": "f99e4ff9",
   "metadata": {},
   "outputs": [],
   "source": []
  },
  {
   "cell_type": "code",
   "execution_count": null,
   "id": "402d0d1c",
   "metadata": {},
   "outputs": [],
   "source": []
  }
 ],
 "metadata": {
  "kernelspec": {
   "display_name": "Python 3",
   "language": "python",
   "name": "python3"
  },
  "language_info": {
   "codemirror_mode": {
    "name": "ipython",
    "version": 3
   },
   "file_extension": ".py",
   "mimetype": "text/x-python",
   "name": "python",
   "nbconvert_exporter": "python",
   "pygments_lexer": "ipython3",
   "version": "3.7.3"
  }
 },
 "nbformat": 4,
 "nbformat_minor": 5
}
