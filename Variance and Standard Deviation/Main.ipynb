{
 "cells": [
  {
   "cell_type": "code",
   "execution_count": 12,
   "metadata": {},
   "outputs": [],
   "source": [
    "import numpy as np"
   ]
  },
  {
   "cell_type": "markdown",
   "metadata": {},
   "source": [
    "<b>Standard Deviation</b> is a measure of how spread out numbers are\n",
    "<br>\n",
    "<b>Variance</b> is the average of squared differences from the Mean "
   ]
  },
  {
   "cell_type": "code",
   "execution_count": 13,
   "metadata": {},
   "outputs": [
    {
     "data": {
      "text/plain": [
       "array([100, 350, 210, 330, 500])"
      ]
     },
     "execution_count": 13,
     "metadata": {},
     "output_type": "execute_result"
    }
   ],
   "source": [
    "dog_heights = [100,350,210,330,500]\n",
    "dog_heights = np.array(dog_heights)\n",
    "dog_heights"
   ]
  },
  {
   "cell_type": "markdown",
   "metadata": {},
   "source": [
    "<b>Formula:</b>"
   ]
  },
  {
   "cell_type": "code",
   "execution_count": 14,
   "metadata": {},
   "outputs": [
    {
     "name": "stdout",
     "output_type": "stream",
     "text": [
      "mean = 298.0\n",
      "var = 18296.0\n",
      "std = 135.26270735128733\n"
     ]
    }
   ],
   "source": [
    "mean = dog_heights.sum()/len(dog_heights)\n",
    "var = ((dog_heights - mean)**2).sum()/len(dog_heights)\n",
    "std = np.sqrt(var)\n",
    "print(f\"mean = {mean}\")\n",
    "print(f\"var = {var}\")\n",
    "print(f\"std = {std}\")"
   ]
  },
  {
   "cell_type": "markdown",
   "metadata": {},
   "source": [
    "<b>Numpy Applying</b>"
   ]
  },
  {
   "cell_type": "code",
   "execution_count": 15,
   "metadata": {},
   "outputs": [
    {
     "name": "stdout",
     "output_type": "stream",
     "text": [
      "var = 18296.0\n",
      "std = 135.26270735128733\n"
     ]
    }
   ],
   "source": [
    "print(f\"var = {np.var(dog_heights)}\")\n",
    "print(f\"std = {np.sqrt(np.var(dog_heights))}\")"
   ]
  },
  {
   "cell_type": "code",
   "execution_count": null,
   "metadata": {},
   "outputs": [],
   "source": []
  }
 ],
 "metadata": {
  "kernelspec": {
   "display_name": "Python 3",
   "language": "python",
   "name": "python3"
  },
  "language_info": {
   "codemirror_mode": {
    "name": "ipython",
    "version": 3
   },
   "file_extension": ".py",
   "mimetype": "text/x-python",
   "name": "python",
   "nbconvert_exporter": "python",
   "pygments_lexer": "ipython3",
   "version": "3.7.3"
  }
 },
 "nbformat": 4,
 "nbformat_minor": 4
}
