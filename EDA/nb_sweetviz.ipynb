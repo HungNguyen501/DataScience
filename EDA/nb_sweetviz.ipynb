{
 "cells": [
  {
   "cell_type": "code",
   "execution_count": 1,
   "outputs": [],
   "source": [
    "import pandas as pd\n",
    "import sweetviz"
   ],
   "metadata": {
    "collapsed": false,
    "pycharm": {
     "name": "#%%\n"
    }
   }
  },
  {
   "cell_type": "code",
   "execution_count": 2,
   "outputs": [
    {
     "data": {
      "text/plain": "         msisdn mother_system  af_partition_date           appsflyer_id  \\\n0  8.490192e+10           VTP           20220326  1646382907280-3863150   \n1  8.490192e+10           VTP           20220304  1646382907280-3863150   \n2  8.490192e+10           VTP           20220304  1646382907280-3863150   \n3  8.490192e+10           VTP           20220304  1646382907280-3863150   \n4  8.490192e+10           VTP           20220304  1646382907280-3863150   \n5  8.490192e+10           VTP           20220304  1646382907280-3863150   \n6  8.490192e+10           VTP           20220304  1646382907280-3863150   \n7  8.490192e+10           VTP           20220304  1646382907280-3863150   \n8  8.490192e+10           VTP           20220304  1646382907280-3863150   \n9  8.490192e+10           VTP           20220304  1646382907280-3863150   \n\n                  af_adset   campaign                   event_name  \\\n0  GIAONH1_KDVTPAY_VTP_KTM  VTPOST_BH  vtm_transaction_s2s_success   \n1  GIAONH1_KDVTPAY_VTP_KTM  VTPOST_BH                     qr_start   \n2  GIAONH1_KDVTPAY_VTP_KTM  VTPOST_BH             transfer_success   \n3  GIAONH1_KDVTPAY_VTP_KTM  VTPOST_BH                login_success   \n4  GIAONH1_KDVTPAY_VTP_KTM  VTPOST_BH    click_tab_bar_screen_home   \n5  GIAONH1_KDVTPAY_VTP_KTM  VTPOST_BH                login_success   \n6  GIAONH1_KDVTPAY_VTP_KTM  VTPOST_BH             transfer_success   \n7  GIAONH1_KDVTPAY_VTP_KTM  VTPOST_BH                  login_start   \n8  GIAONH1_KDVTPAY_VTP_KTM  VTPOST_BH                login_success   \n9  GIAONH1_KDVTPAY_VTP_KTM  VTPOST_BH             transfer_success   \n\n                      event_time media_source  \\\n0  2022-03-26T11:16:28.000+07:00       VTPOST   \n1  2022-03-04T19:47:18.000+07:00       VTPOST   \n2  2022-03-04T19:47:40.000+07:00       VTPOST   \n3  2022-03-04T19:47:12.000+07:00       VTPOST   \n4  2022-03-04T19:47:17.000+07:00       VTPOST   \n5  2022-03-04T19:47:12.000+07:00       VTPOST   \n6  2022-03-04T20:41:39.000+07:00       VTPOST   \n7  2022-03-04T20:40:56.000+07:00       VTPOST   \n8  2022-03-04T20:41:03.000+07:00       VTPOST   \n9  2022-03-04T20:41:56.000+07:00       VTPOST   \n\n                                        original_url  quantity  check  \n0  https://vtmoney.onelink.me/314y?pid=VTPOST&c=V...        40      1  \n1  https://vtmoney.onelink.me/314y?pid=VTPOST&c=V...        49      0  \n2  https://vtmoney.onelink.me/314y?pid=VTPOST&c=V...        14      0  \n3  https://vtmoney.onelink.me/314y?pid=VTPOST&c=V...        94      0  \n4  https://vtmoney.onelink.me/314y?pid=VTPOST&c=V...         4      0  \n5  https://vtmoney.onelink.me/314y?pid=VTPOST&c=V...        97      0  \n6  https://vtmoney.onelink.me/314y?pid=VTPOST&c=V...        76      0  \n7  https://vtmoney.onelink.me/314y?pid=VTPOST&c=V...        20      1  \n8  https://vtmoney.onelink.me/314y?pid=VTPOST&c=V...        46      0  \n9  https://vtmoney.onelink.me/314y?pid=VTPOST&c=V...        55      0  ",
      "text/html": "<div>\n<style scoped>\n    .dataframe tbody tr th:only-of-type {\n        vertical-align: middle;\n    }\n\n    .dataframe tbody tr th {\n        vertical-align: top;\n    }\n\n    .dataframe thead th {\n        text-align: right;\n    }\n</style>\n<table border=\"1\" class=\"dataframe\">\n  <thead>\n    <tr style=\"text-align: right;\">\n      <th></th>\n      <th>msisdn</th>\n      <th>mother_system</th>\n      <th>af_partition_date</th>\n      <th>appsflyer_id</th>\n      <th>af_adset</th>\n      <th>campaign</th>\n      <th>event_name</th>\n      <th>event_time</th>\n      <th>media_source</th>\n      <th>original_url</th>\n      <th>quantity</th>\n      <th>check</th>\n    </tr>\n  </thead>\n  <tbody>\n    <tr>\n      <th>0</th>\n      <td>8.490192e+10</td>\n      <td>VTP</td>\n      <td>20220326</td>\n      <td>1646382907280-3863150</td>\n      <td>GIAONH1_KDVTPAY_VTP_KTM</td>\n      <td>VTPOST_BH</td>\n      <td>vtm_transaction_s2s_success</td>\n      <td>2022-03-26T11:16:28.000+07:00</td>\n      <td>VTPOST</td>\n      <td>https://vtmoney.onelink.me/314y?pid=VTPOST&amp;c=V...</td>\n      <td>40</td>\n      <td>1</td>\n    </tr>\n    <tr>\n      <th>1</th>\n      <td>8.490192e+10</td>\n      <td>VTP</td>\n      <td>20220304</td>\n      <td>1646382907280-3863150</td>\n      <td>GIAONH1_KDVTPAY_VTP_KTM</td>\n      <td>VTPOST_BH</td>\n      <td>qr_start</td>\n      <td>2022-03-04T19:47:18.000+07:00</td>\n      <td>VTPOST</td>\n      <td>https://vtmoney.onelink.me/314y?pid=VTPOST&amp;c=V...</td>\n      <td>49</td>\n      <td>0</td>\n    </tr>\n    <tr>\n      <th>2</th>\n      <td>8.490192e+10</td>\n      <td>VTP</td>\n      <td>20220304</td>\n      <td>1646382907280-3863150</td>\n      <td>GIAONH1_KDVTPAY_VTP_KTM</td>\n      <td>VTPOST_BH</td>\n      <td>transfer_success</td>\n      <td>2022-03-04T19:47:40.000+07:00</td>\n      <td>VTPOST</td>\n      <td>https://vtmoney.onelink.me/314y?pid=VTPOST&amp;c=V...</td>\n      <td>14</td>\n      <td>0</td>\n    </tr>\n    <tr>\n      <th>3</th>\n      <td>8.490192e+10</td>\n      <td>VTP</td>\n      <td>20220304</td>\n      <td>1646382907280-3863150</td>\n      <td>GIAONH1_KDVTPAY_VTP_KTM</td>\n      <td>VTPOST_BH</td>\n      <td>login_success</td>\n      <td>2022-03-04T19:47:12.000+07:00</td>\n      <td>VTPOST</td>\n      <td>https://vtmoney.onelink.me/314y?pid=VTPOST&amp;c=V...</td>\n      <td>94</td>\n      <td>0</td>\n    </tr>\n    <tr>\n      <th>4</th>\n      <td>8.490192e+10</td>\n      <td>VTP</td>\n      <td>20220304</td>\n      <td>1646382907280-3863150</td>\n      <td>GIAONH1_KDVTPAY_VTP_KTM</td>\n      <td>VTPOST_BH</td>\n      <td>click_tab_bar_screen_home</td>\n      <td>2022-03-04T19:47:17.000+07:00</td>\n      <td>VTPOST</td>\n      <td>https://vtmoney.onelink.me/314y?pid=VTPOST&amp;c=V...</td>\n      <td>4</td>\n      <td>0</td>\n    </tr>\n    <tr>\n      <th>5</th>\n      <td>8.490192e+10</td>\n      <td>VTP</td>\n      <td>20220304</td>\n      <td>1646382907280-3863150</td>\n      <td>GIAONH1_KDVTPAY_VTP_KTM</td>\n      <td>VTPOST_BH</td>\n      <td>login_success</td>\n      <td>2022-03-04T19:47:12.000+07:00</td>\n      <td>VTPOST</td>\n      <td>https://vtmoney.onelink.me/314y?pid=VTPOST&amp;c=V...</td>\n      <td>97</td>\n      <td>0</td>\n    </tr>\n    <tr>\n      <th>6</th>\n      <td>8.490192e+10</td>\n      <td>VTP</td>\n      <td>20220304</td>\n      <td>1646382907280-3863150</td>\n      <td>GIAONH1_KDVTPAY_VTP_KTM</td>\n      <td>VTPOST_BH</td>\n      <td>transfer_success</td>\n      <td>2022-03-04T20:41:39.000+07:00</td>\n      <td>VTPOST</td>\n      <td>https://vtmoney.onelink.me/314y?pid=VTPOST&amp;c=V...</td>\n      <td>76</td>\n      <td>0</td>\n    </tr>\n    <tr>\n      <th>7</th>\n      <td>8.490192e+10</td>\n      <td>VTP</td>\n      <td>20220304</td>\n      <td>1646382907280-3863150</td>\n      <td>GIAONH1_KDVTPAY_VTP_KTM</td>\n      <td>VTPOST_BH</td>\n      <td>login_start</td>\n      <td>2022-03-04T20:40:56.000+07:00</td>\n      <td>VTPOST</td>\n      <td>https://vtmoney.onelink.me/314y?pid=VTPOST&amp;c=V...</td>\n      <td>20</td>\n      <td>1</td>\n    </tr>\n    <tr>\n      <th>8</th>\n      <td>8.490192e+10</td>\n      <td>VTP</td>\n      <td>20220304</td>\n      <td>1646382907280-3863150</td>\n      <td>GIAONH1_KDVTPAY_VTP_KTM</td>\n      <td>VTPOST_BH</td>\n      <td>login_success</td>\n      <td>2022-03-04T20:41:03.000+07:00</td>\n      <td>VTPOST</td>\n      <td>https://vtmoney.onelink.me/314y?pid=VTPOST&amp;c=V...</td>\n      <td>46</td>\n      <td>0</td>\n    </tr>\n    <tr>\n      <th>9</th>\n      <td>8.490192e+10</td>\n      <td>VTP</td>\n      <td>20220304</td>\n      <td>1646382907280-3863150</td>\n      <td>GIAONH1_KDVTPAY_VTP_KTM</td>\n      <td>VTPOST_BH</td>\n      <td>transfer_success</td>\n      <td>2022-03-04T20:41:56.000+07:00</td>\n      <td>VTPOST</td>\n      <td>https://vtmoney.onelink.me/314y?pid=VTPOST&amp;c=V...</td>\n      <td>55</td>\n      <td>0</td>\n    </tr>\n  </tbody>\n</table>\n</div>"
     },
     "execution_count": 2,
     "metadata": {},
     "output_type": "execute_result"
    }
   ],
   "source": [
    "df_dataset = pd.read_csv('.//data/dataset.csv')\n",
    "df_dataset.head(n=10)"
   ],
   "metadata": {
    "collapsed": false,
    "pycharm": {
     "name": "#%%\n"
    }
   }
  },
  {
   "cell_type": "code",
   "execution_count": 3,
   "outputs": [
    {
     "data": {
      "text/plain": "                                             |          | [  0%]   00:00 -> (? left)",
      "application/vnd.jupyter.widget-view+json": {
       "version_major": 2,
       "version_minor": 0,
       "model_id": "4ba8e08ac2af45a3bc4b54249b515f62"
      }
     },
     "metadata": {},
     "output_type": "display_data"
    },
    {
     "name": "stdout",
     "output_type": "stream",
     "text": [
      "Report SWEETVIZ_REPORT.html was generated! NOTEBOOK/COLAB USERS: the web browser MAY not pop up, regardless, the report IS saved in your notebook/colab files.\n"
     ]
    }
   ],
   "source": [
    "report1 = sweetviz.analyze(source=df_dataset)\n",
    "report1.show_html()"
   ],
   "metadata": {
    "collapsed": false,
    "pycharm": {
     "name": "#%%\n"
    }
   }
  },
  {
   "cell_type": "code",
   "execution_count": null,
   "outputs": [],
   "source": [],
   "metadata": {
    "collapsed": false,
    "pycharm": {
     "name": "#%%\n"
    }
   }
  },
  {
   "cell_type": "code",
   "execution_count": null,
   "outputs": [],
   "source": [],
   "metadata": {
    "collapsed": false,
    "pycharm": {
     "name": "#%%\n"
    }
   }
  },
  {
   "cell_type": "code",
   "execution_count": null,
   "outputs": [],
   "source": [],
   "metadata": {
    "collapsed": false,
    "pycharm": {
     "name": "#%%\n"
    }
   }
  },
  {
   "cell_type": "code",
   "execution_count": null,
   "outputs": [],
   "source": [],
   "metadata": {
    "collapsed": false,
    "pycharm": {
     "name": "#%%\n"
    }
   }
  },
  {
   "cell_type": "code",
   "execution_count": null,
   "outputs": [],
   "source": [],
   "metadata": {
    "collapsed": false,
    "pycharm": {
     "name": "#%%\n"
    }
   }
  },
  {
   "cell_type": "code",
   "execution_count": null,
   "metadata": {
    "collapsed": true
   },
   "outputs": [],
   "source": []
  }
 ],
 "metadata": {
  "kernelspec": {
   "display_name": "Python 3",
   "language": "python",
   "name": "python3"
  },
  "language_info": {
   "codemirror_mode": {
    "name": "ipython",
    "version": 2
   },
   "file_extension": ".py",
   "mimetype": "text/x-python",
   "name": "python",
   "nbconvert_exporter": "python",
   "pygments_lexer": "ipython2",
   "version": "2.7.6"
  }
 },
 "nbformat": 4,
 "nbformat_minor": 0
}